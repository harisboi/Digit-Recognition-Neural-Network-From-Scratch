{
 "cells": [
  {
   "cell_type": "code",
   "execution_count": 5,
   "metadata": {
    "collapsed": true
   },
   "outputs": [],
   "source": [
    "import numpy as np\n",
    "import pandas as pd\n",
    "from matplotlib import pyplot as plt"
   ]
  },
  {
   "cell_type": "code",
   "execution_count": 6,
   "outputs": [
    {
     "data": {
      "text/plain": "   label  pixel0  pixel1  pixel2  pixel3  pixel4  pixel5  pixel6  pixel7  \\\n0      1       0       0       0       0       0       0       0       0   \n1      0       0       0       0       0       0       0       0       0   \n2      1       0       0       0       0       0       0       0       0   \n3      4       0       0       0       0       0       0       0       0   \n4      0       0       0       0       0       0       0       0       0   \n\n   pixel8  ...  pixel774  pixel775  pixel776  pixel777  pixel778  pixel779  \\\n0       0  ...         0         0         0         0         0         0   \n1       0  ...         0         0         0         0         0         0   \n2       0  ...         0         0         0         0         0         0   \n3       0  ...         0         0         0         0         0         0   \n4       0  ...         0         0         0         0         0         0   \n\n   pixel780  pixel781  pixel782  pixel783  \n0         0         0         0         0  \n1         0         0         0         0  \n2         0         0         0         0  \n3         0         0         0         0  \n4         0         0         0         0  \n\n[5 rows x 785 columns]",
      "text/html": "<div>\n<style scoped>\n    .dataframe tbody tr th:only-of-type {\n        vertical-align: middle;\n    }\n\n    .dataframe tbody tr th {\n        vertical-align: top;\n    }\n\n    .dataframe thead th {\n        text-align: right;\n    }\n</style>\n<table border=\"1\" class=\"dataframe\">\n  <thead>\n    <tr style=\"text-align: right;\">\n      <th></th>\n      <th>label</th>\n      <th>pixel0</th>\n      <th>pixel1</th>\n      <th>pixel2</th>\n      <th>pixel3</th>\n      <th>pixel4</th>\n      <th>pixel5</th>\n      <th>pixel6</th>\n      <th>pixel7</th>\n      <th>pixel8</th>\n      <th>...</th>\n      <th>pixel774</th>\n      <th>pixel775</th>\n      <th>pixel776</th>\n      <th>pixel777</th>\n      <th>pixel778</th>\n      <th>pixel779</th>\n      <th>pixel780</th>\n      <th>pixel781</th>\n      <th>pixel782</th>\n      <th>pixel783</th>\n    </tr>\n  </thead>\n  <tbody>\n    <tr>\n      <th>0</th>\n      <td>1</td>\n      <td>0</td>\n      <td>0</td>\n      <td>0</td>\n      <td>0</td>\n      <td>0</td>\n      <td>0</td>\n      <td>0</td>\n      <td>0</td>\n      <td>0</td>\n      <td>...</td>\n      <td>0</td>\n      <td>0</td>\n      <td>0</td>\n      <td>0</td>\n      <td>0</td>\n      <td>0</td>\n      <td>0</td>\n      <td>0</td>\n      <td>0</td>\n      <td>0</td>\n    </tr>\n    <tr>\n      <th>1</th>\n      <td>0</td>\n      <td>0</td>\n      <td>0</td>\n      <td>0</td>\n      <td>0</td>\n      <td>0</td>\n      <td>0</td>\n      <td>0</td>\n      <td>0</td>\n      <td>0</td>\n      <td>...</td>\n      <td>0</td>\n      <td>0</td>\n      <td>0</td>\n      <td>0</td>\n      <td>0</td>\n      <td>0</td>\n      <td>0</td>\n      <td>0</td>\n      <td>0</td>\n      <td>0</td>\n    </tr>\n    <tr>\n      <th>2</th>\n      <td>1</td>\n      <td>0</td>\n      <td>0</td>\n      <td>0</td>\n      <td>0</td>\n      <td>0</td>\n      <td>0</td>\n      <td>0</td>\n      <td>0</td>\n      <td>0</td>\n      <td>...</td>\n      <td>0</td>\n      <td>0</td>\n      <td>0</td>\n      <td>0</td>\n      <td>0</td>\n      <td>0</td>\n      <td>0</td>\n      <td>0</td>\n      <td>0</td>\n      <td>0</td>\n    </tr>\n    <tr>\n      <th>3</th>\n      <td>4</td>\n      <td>0</td>\n      <td>0</td>\n      <td>0</td>\n      <td>0</td>\n      <td>0</td>\n      <td>0</td>\n      <td>0</td>\n      <td>0</td>\n      <td>0</td>\n      <td>...</td>\n      <td>0</td>\n      <td>0</td>\n      <td>0</td>\n      <td>0</td>\n      <td>0</td>\n      <td>0</td>\n      <td>0</td>\n      <td>0</td>\n      <td>0</td>\n      <td>0</td>\n    </tr>\n    <tr>\n      <th>4</th>\n      <td>0</td>\n      <td>0</td>\n      <td>0</td>\n      <td>0</td>\n      <td>0</td>\n      <td>0</td>\n      <td>0</td>\n      <td>0</td>\n      <td>0</td>\n      <td>0</td>\n      <td>...</td>\n      <td>0</td>\n      <td>0</td>\n      <td>0</td>\n      <td>0</td>\n      <td>0</td>\n      <td>0</td>\n      <td>0</td>\n      <td>0</td>\n      <td>0</td>\n      <td>0</td>\n    </tr>\n  </tbody>\n</table>\n<p>5 rows × 785 columns</p>\n</div>"
     },
     "execution_count": 6,
     "metadata": {},
     "output_type": "execute_result"
    }
   ],
   "source": [
    "data = pd.read_csv('train.csv')\n",
    "data.head()"
   ],
   "metadata": {
    "collapsed": false
   }
  },
  {
   "cell_type": "code",
   "execution_count": 7,
   "outputs": [],
   "source": [
    "data = np.array(data)\n",
    "rows, column = data.shape\n",
    "np.random.shuffle(data)\n",
    "\n",
    "data_dev = data[0:1000].T\n",
    "Y_dev = data_dev[0]\n",
    "X_dev = data_dev[1:column]\n",
    "X_dev = X_dev / 255.\n",
    "\n",
    "data_train = data[1000:rows].T\n",
    "Y_train = data_train[0]\n",
    "X_train = data_train[1:column]\n",
    "X_train = X_train / 128.\n",
    "_,m_train = X_train.shape"
   ],
   "metadata": {
    "collapsed": false
   }
  },
  {
   "cell_type": "code",
   "execution_count": 8,
   "outputs": [
    {
     "data": {
      "text/plain": "(784,)"
     },
     "execution_count": 8,
     "metadata": {},
     "output_type": "execute_result"
    }
   ],
   "source": [
    "X_train[:,0].shape"
   ],
   "metadata": {
    "collapsed": false
   }
  },
  {
   "cell_type": "code",
   "execution_count": 9,
   "outputs": [
    {
     "data": {
      "text/plain": "array([9, 0, 1, ..., 7, 5, 0], dtype=int64)"
     },
     "execution_count": 9,
     "metadata": {},
     "output_type": "execute_result"
    }
   ],
   "source": [
    "Y_train"
   ],
   "metadata": {
    "collapsed": false
   }
  },
  {
   "cell_type": "code",
   "execution_count": 10,
   "outputs": [],
   "source": [
    "def InitiateParameters():\n",
    "    W1 = np.random.rand(10, 784)\n",
    "    b1 = np.random.rand(10, 1)\n",
    "    W2 = np.random.rand(10, 10)\n",
    "    b2 = np.random.rand(10, 1)\n",
    "    return W1, b1, W2, b2\n",
    "\n",
    "def ReLU(Z):\n",
    "    return np.maximum(Z, 0)\n",
    "\n",
    "#activation function based on probabilities\n",
    "def softmax(Z):\n",
    "    A = np.exp(Z) / np.sum(np.exp(Z))\n",
    "    return A\n",
    "\n",
    "def ForwardPropagation(W1, b1, W2, b2, X):\n",
    "    Z1 = W1.dot(X) + b1\n",
    "    A1 = ReLU(Z1)\n",
    "    Z2 = W2.dot(A1) + b2\n",
    "    A2 = softmax(Z2)\n",
    "    return Z1, A1, Z2, A2\n",
    "\n",
    "#used when we are in back propagation\n",
    "def ReLUDeriv(Z):\n",
    "    return Z > 0\n",
    "\n",
    "def OneHot(Y):\n",
    "    OneHotY = np.zeros((Y.size, Y.max() + 1))\n",
    "    OneHotY[np.arange(Y.size), Y] = 1\n",
    "    OneHotY = OneHotY.T\n",
    "    return OneHotY\n",
    "\n",
    "def BackwardPropagation(Z1, A1, Z2, A2, W1, W2, X, Y):\n",
    "    #encode first\n",
    "    OneHotY = OneHot(Y)\n",
    "    dZ2 = A2 - OneHotY\n",
    "    dW2 = 1 / rows * dZ2.dot(A1.T)\n",
    "    db2 = 1 / rows * np.sum(dZ2)\n",
    "    dZ1 = W2.T.dot(dZ2) * ReLUDeriv(Z1)\n",
    "    dW1 = 1 / rows * dZ1.dot(X.T)\n",
    "    db1 = 1 / rows * np.sum(dZ1)\n",
    "    return dW1, db1, dW2, db2\n",
    "\n",
    "def UpdateParameters(W1, b1, W2, b2, dW1, db1, dW2, db2, alpha):\n",
    "    W1 = W1 - alpha * dW1\n",
    "    b1 = b1 - alpha * db1\n",
    "    W2 = W2 - alpha * dW2\n",
    "    b2 = b2 - alpha * db2\n",
    "    return W1, b1, W2, b2"
   ],
   "metadata": {
    "collapsed": false
   }
  },
  {
   "cell_type": "code",
   "execution_count": 11,
   "outputs": [],
   "source": [
    "def get_predictions(A2):\n",
    "    return np.argmax(A2, 0)\n",
    "\n",
    "def GetAccuracy(predictions, Y):\n",
    "    print(predictions, Y)\n",
    "    return np.sum(predictions == Y) / Y.size\n",
    "\n",
    "def GradientDescent(X, Y, alpha, iterations):\n",
    "    W1, b1, W2, b2 = InitiateParameters()\n",
    "    for i in range(iterations):\n",
    "        Z1, A1, Z2, A2 = ForwardPropagation(W1, b1, W2, b2, X)\n",
    "        dW1, db1, dW2, db2 = BackwardPropagation(Z1, A1, Z2, A2, W1, W2, X, Y)\n",
    "        W1, b1, W2, b2 = UpdateParameters(W1, b1, W2, b2, dW1, db1, dW2, db2, alpha)\n",
    "        if i % 10 == 0:\n",
    "            print(\"Iteration: \", i)\n",
    "            predictions = get_predictions(A2)\n",
    "            print(GetAccuracy(predictions, Y))\n",
    "    return W1, b1, W2, b2"
   ],
   "metadata": {
    "collapsed": false
   }
  },
  {
   "cell_type": "code",
   "execution_count": 12,
   "outputs": [
    {
     "name": "stderr",
     "output_type": "stream",
     "text": [
      "C:\\Users\\haris\\AppData\\Local\\Temp\\ipykernel_16864\\2518096606.py:13: RuntimeWarning: overflow encountered in exp\n",
      "  A = np.exp(Z) / np.sum(np.exp(Z))\n",
      "C:\\Users\\haris\\AppData\\Local\\Temp\\ipykernel_16864\\2518096606.py:13: RuntimeWarning: invalid value encountered in divide\n",
      "  A = np.exp(Z) / np.sum(np.exp(Z))\n"
     ]
    },
    {
     "name": "stdout",
     "output_type": "stream",
     "text": [
      "Iteration:  0\n",
      "[0 3 0 ... 3 0 0] [9 0 1 ... 7 5 0]\n",
      "0.07380487804878048\n",
      "Iteration:  10\n",
      "[0 0 0 ... 0 0 0] [9 0 1 ... 7 5 0]\n",
      "0.09875609756097561\n",
      "Iteration:  20\n",
      "[0 0 0 ... 0 0 0] [9 0 1 ... 7 5 0]\n",
      "0.09875609756097561\n",
      "Iteration:  30\n",
      "[0 0 0 ... 0 0 0] [9 0 1 ... 7 5 0]\n",
      "0.09875609756097561\n",
      "Iteration:  40\n",
      "[0 0 0 ... 0 0 0] [9 0 1 ... 7 5 0]\n",
      "0.09875609756097561\n",
      "Iteration:  50\n",
      "[0 0 0 ... 0 0 0] [9 0 1 ... 7 5 0]\n",
      "0.09875609756097561\n",
      "Iteration:  60\n",
      "[0 0 0 ... 0 0 0] [9 0 1 ... 7 5 0]\n",
      "0.09875609756097561\n",
      "Iteration:  70\n",
      "[0 0 0 ... 0 0 0] [9 0 1 ... 7 5 0]\n",
      "0.09875609756097561\n",
      "Iteration:  80\n",
      "[0 0 0 ... 0 0 0] [9 0 1 ... 7 5 0]\n",
      "0.09875609756097561\n",
      "Iteration:  90\n",
      "[0 0 0 ... 0 0 0] [9 0 1 ... 7 5 0]\n",
      "0.09875609756097561\n",
      "Iteration:  100\n",
      "[0 0 0 ... 0 0 0] [9 0 1 ... 7 5 0]\n",
      "0.09875609756097561\n",
      "Iteration:  110\n",
      "[0 0 0 ... 0 0 0] [9 0 1 ... 7 5 0]\n",
      "0.09875609756097561\n",
      "Iteration:  120\n",
      "[0 0 0 ... 0 0 0] [9 0 1 ... 7 5 0]\n",
      "0.09875609756097561\n",
      "Iteration:  130\n",
      "[0 0 0 ... 0 0 0] [9 0 1 ... 7 5 0]\n",
      "0.09875609756097561\n",
      "Iteration:  140\n",
      "[0 0 0 ... 0 0 0] [9 0 1 ... 7 5 0]\n",
      "0.09875609756097561\n",
      "Iteration:  150\n",
      "[0 0 0 ... 0 0 0] [9 0 1 ... 7 5 0]\n",
      "0.09875609756097561\n",
      "Iteration:  160\n",
      "[0 0 0 ... 0 0 0] [9 0 1 ... 7 5 0]\n",
      "0.09875609756097561\n",
      "Iteration:  170\n",
      "[0 0 0 ... 0 0 0] [9 0 1 ... 7 5 0]\n",
      "0.09875609756097561\n",
      "Iteration:  180\n",
      "[0 0 0 ... 0 0 0] [9 0 1 ... 7 5 0]\n",
      "0.09875609756097561\n",
      "Iteration:  190\n",
      "[0 0 0 ... 0 0 0] [9 0 1 ... 7 5 0]\n",
      "0.09875609756097561\n",
      "Iteration:  200\n",
      "[0 0 0 ... 0 0 0] [9 0 1 ... 7 5 0]\n",
      "0.09875609756097561\n",
      "Iteration:  210\n",
      "[0 0 0 ... 0 0 0] [9 0 1 ... 7 5 0]\n",
      "0.09875609756097561\n",
      "Iteration:  220\n",
      "[0 0 0 ... 0 0 0] [9 0 1 ... 7 5 0]\n",
      "0.09875609756097561\n",
      "Iteration:  230\n",
      "[0 0 0 ... 0 0 0] [9 0 1 ... 7 5 0]\n",
      "0.09875609756097561\n",
      "Iteration:  240\n",
      "[0 0 0 ... 0 0 0] [9 0 1 ... 7 5 0]\n",
      "0.09875609756097561\n",
      "Iteration:  250\n",
      "[0 0 0 ... 0 0 0] [9 0 1 ... 7 5 0]\n",
      "0.09875609756097561\n",
      "Iteration:  260\n",
      "[0 0 0 ... 0 0 0] [9 0 1 ... 7 5 0]\n",
      "0.09875609756097561\n",
      "Iteration:  270\n",
      "[0 0 0 ... 0 0 0] [9 0 1 ... 7 5 0]\n",
      "0.09875609756097561\n",
      "Iteration:  280\n",
      "[0 0 0 ... 0 0 0] [9 0 1 ... 7 5 0]\n",
      "0.09875609756097561\n",
      "Iteration:  290\n",
      "[0 0 0 ... 0 0 0] [9 0 1 ... 7 5 0]\n",
      "0.09875609756097561\n",
      "Iteration:  300\n",
      "[0 0 0 ... 0 0 0] [9 0 1 ... 7 5 0]\n",
      "0.09875609756097561\n",
      "Iteration:  310\n",
      "[0 0 0 ... 0 0 0] [9 0 1 ... 7 5 0]\n",
      "0.09875609756097561\n",
      "Iteration:  320\n",
      "[0 0 0 ... 0 0 0] [9 0 1 ... 7 5 0]\n",
      "0.09875609756097561\n",
      "Iteration:  330\n",
      "[0 0 0 ... 0 0 0] [9 0 1 ... 7 5 0]\n",
      "0.09875609756097561\n",
      "Iteration:  340\n",
      "[0 0 0 ... 0 0 0] [9 0 1 ... 7 5 0]\n",
      "0.09875609756097561\n",
      "Iteration:  350\n",
      "[0 0 0 ... 0 0 0] [9 0 1 ... 7 5 0]\n",
      "0.09875609756097561\n",
      "Iteration:  360\n",
      "[0 0 0 ... 0 0 0] [9 0 1 ... 7 5 0]\n",
      "0.09875609756097561\n",
      "Iteration:  370\n",
      "[0 0 0 ... 0 0 0] [9 0 1 ... 7 5 0]\n",
      "0.09875609756097561\n",
      "Iteration:  380\n",
      "[0 0 0 ... 0 0 0] [9 0 1 ... 7 5 0]\n",
      "0.09875609756097561\n",
      "Iteration:  390\n",
      "[0 0 0 ... 0 0 0] [9 0 1 ... 7 5 0]\n",
      "0.09875609756097561\n",
      "Iteration:  400\n",
      "[0 0 0 ... 0 0 0] [9 0 1 ... 7 5 0]\n",
      "0.09875609756097561\n",
      "Iteration:  410\n",
      "[0 0 0 ... 0 0 0] [9 0 1 ... 7 5 0]\n",
      "0.09875609756097561\n",
      "Iteration:  420\n",
      "[0 0 0 ... 0 0 0] [9 0 1 ... 7 5 0]\n",
      "0.09875609756097561\n",
      "Iteration:  430\n",
      "[0 0 0 ... 0 0 0] [9 0 1 ... 7 5 0]\n",
      "0.09875609756097561\n",
      "Iteration:  440\n",
      "[0 0 0 ... 0 0 0] [9 0 1 ... 7 5 0]\n",
      "0.09875609756097561\n",
      "Iteration:  450\n",
      "[0 0 0 ... 0 0 0] [9 0 1 ... 7 5 0]\n",
      "0.09875609756097561\n",
      "Iteration:  460\n",
      "[0 0 0 ... 0 0 0] [9 0 1 ... 7 5 0]\n",
      "0.09875609756097561\n",
      "Iteration:  470\n",
      "[0 0 0 ... 0 0 0] [9 0 1 ... 7 5 0]\n",
      "0.09875609756097561\n",
      "Iteration:  480\n",
      "[0 0 0 ... 0 0 0] [9 0 1 ... 7 5 0]\n",
      "0.09875609756097561\n",
      "Iteration:  490\n",
      "[0 0 0 ... 0 0 0] [9 0 1 ... 7 5 0]\n",
      "0.09875609756097561\n"
     ]
    }
   ],
   "source": [
    "W1, b1, W2, b2 = GradientDescent(X_train, Y_train, 0.10, 500)"
   ],
   "metadata": {
    "collapsed": false
   }
  },
  {
   "cell_type": "code",
   "execution_count": 13,
   "outputs": [],
   "source": [
    "def MakePredictions(X, W1, b1, W2, b2):\n",
    "    _, _, _, A2 = ForwardPropagation(W1, b1, W2, b2, X)\n",
    "    predictions = get_predictions(A2)\n",
    "    return predictions\n",
    "\n",
    "def TestPrediciton(index, W1, b1, W2, b2):\n",
    "    current_image = X_train[:, index, None]\n",
    "    prediction = MakePredictions(X_train[:, index, None], W1, b1, W2, b2)\n",
    "    label = Y_train[index]\n",
    "    print(\"Prediction: \", prediction)\n",
    "    print(\"Label: \", label)\n",
    "\n",
    "    current_image = current_image.reshape((28, 28)) * 255\n",
    "    plt.gray()\n",
    "    plt.imshow(current_image, interpolation='nearest')\n",
    "    plt.show()"
   ],
   "metadata": {
    "collapsed": false
   }
  },
  {
   "cell_type": "code",
   "execution_count": 14,
   "outputs": [
    {
     "name": "stdout",
     "output_type": "stream",
     "text": [
      "Prediction:  [0]\n",
      "Label:  0\n"
     ]
    },
    {
     "data": {
      "text/plain": "<Figure size 640x480 with 1 Axes>",
      "image/png": "[encoded data removed]"
     },
     "metadata": {},
     "output_type": "display_data"
    },
    {
     "name": "stdout",
     "output_type": "stream",
     "text": [
      "Prediction:  [0]\n",
      "Label:  0\n"
     ]
    },
    {
     "data": {
      "text/plain": "<Figure size 640x480 with 1 Axes>",
      "image/png": "[encoded data removed]"
     },
     "metadata": {},
     "output_type": "display_data"
    },
    {
     "name": "stdout",
     "output_type": "stream",
     "text": [
      "Prediction:  [0]\n",
      "Label:  4\n"
     ]
    },
    {
     "data": {
      "text/plain": "<Figure size 640x480 with 1 Axes>",
      "image/png": "[encoded data removed]"
     },
     "metadata": {},
     "output_type": "display_data"
    },
    {
     "name": "stdout",
     "output_type": "stream",
     "text": [
      "Prediction:  [0]\n",
      "Label:  4\n"
     ]
    },
    {
     "data": {
      "text/plain": "<Figure size 640x480 with 1 Axes>",
      "image/png": "[encoded data removed]"
     },
     "metadata": {},
     "output_type": "display_data"
    },
    {
     "name": "stdout",
     "output_type": "stream",
     "text": [
      "Prediction:  [0]\n",
      "Label:  4\n"
     ]
    },
    {
     "data": {
      "text/plain": "<Figure size 640x480 with 1 Axes>",
      "image/png": "[encoded data removed]"
     },
     "metadata": {},
     "output_type": "display_data"
    },
    {
     "name": "stdout",
     "output_type": "stream",
     "text": [
      "Prediction:  [0]\n",
      "Label:  4\n"
     ]
    },
    {
     "data": {
      "text/plain": "<Figure size 640x480 with 1 Axes>",
      "image/png": "[encoded data removed]"
     },
     "metadata": {},
     "output_type": "display_data"
    },
    {
     "name": "stdout",
     "output_type": "stream",
     "text": [
      "Prediction:  [0]\n",
      "Label:  6\n"
     ]
    },
    {
     "data": {
      "text/plain": "<Figure size 640x480 with 1 Axes>",
      "image/png": "[encoded data removed]"
     },
     "metadata": {},
     "output_type": "display_data"
    },
    {
     "name": "stdout",
     "output_type": "stream",
     "text": [
      "Prediction:  [0]\n",
      "Label:  7\n"
     ]
    },
    {
     "data": {
      "text/plain": "<Figure size 640x480 with 1 Axes>",
      "image/png": "[encoded data removed]"
     },
     "metadata": {},
     "output_type": "display_data"
    },
    {
     "name": "stdout",
     "output_type": "stream",
     "text": [
      "Prediction:  [0]\n",
      "Label:  1\n"
     ]
    },
    {
     "data": {
      "text/plain": "<Figure size 640x480 with 1 Axes>",
      "image/png": "[encoded data removed]"
     },
     "metadata": {},
     "output_type": "display_data"
    },
    {
     "name": "stdout",
     "output_type": "stream",
     "text": [
      "Prediction:  [0]\n",
      "Label:  0\n"
     ]
    },
    {
     "data": {
      "text/plain": "<Figure size 640x480 with 1 Axes>",
      "image/png": "[encoded data removed]"
     },
     "metadata": {},
     "output_type": "display_data"
    }
   ],
   "source": [
    "TestPrediciton(10, W1, b1, W2, b2)\n",
    "TestPrediciton(1, W1, b1, W2, b2)\n",
    "TestPrediciton(58, W1, b1, W2, b2)\n",
    "TestPrediciton(125, W1, b1, W2, b2)\n",
    "TestPrediciton(30, W1, b1, W2, b2)\n",
    "TestPrediciton(106, W1, b1, W2, b2)\n",
    "TestPrediciton(89, W1, b1, W2, b2)\n",
    "TestPrediciton(52, W1, b1, W2, b2)\n",
    "TestPrediciton(19, W1, b1, W2, b2)\n",
    "TestPrediciton(65, W1, b1, W2, b2)"
   ],
   "metadata": {
    "collapsed": false
   }
  },
  {
   "cell_type": "code",
   "execution_count": 22,
   "outputs": [
    {
     "name": "stdout",
     "output_type": "stream",
     "text": [
      "[0 0 0 0 0 0 0 0 0 0 0 0 0 0 0 0 0 0 0 0 0 0 0 0 0 0 0 0 0 0 0 0 0 0 0 0 0\n",
      " 0 0 0 0 0 0 0 0 0 0 0 0 0 0 0 0 0 0 0 0 0 0 0 0 0 0 0 0 0 0 0 0 0 0 0 0 0\n",
      " 0 0 0 0 0 0 0 0 0 0 0 0 0 0 0 0 0 0 0 0 0 0 0 0 0 0 0 0 0 0 0 0 0 0 0 0 0\n",
      " 0 0 0 0 0 0 0 0 0 0 0 0 0 0 0 0 0 0 0 0 0 0 0 0 0 0 0 0 0 0 0 0 0 0 0 0 0\n",
      " 0 0 0 0 0 0 0 0 0 0 0 0 0 0 0 0 0 0 0 0 0 0 0 0 0 0 0 0 0 0 0 0 0 0 0 0 0\n",
      " 0 0 0 0 0 0 0 0 0 0 0 0 0 0 0 0 0 0 0 0 0 0 0 0 0 0 0 0 0 0 0 0 0 0 0 0 0\n",
      " 0 0 0 0 0 0 0 0 0 0 0 0 0 0 0 0 0 0 0 0 0 0 0 0 0 0 0 0 0 0 0 0 0 0 0 0 0\n",
      " 0 0 0 0 0 0 0 0 0 0 0 0 0 0 0 0 0 0 0 0 0 0 0 0 0 0 0 0 0 0 0 0 0 0 0 0 0\n",
      " 0 0 0 0 0 0 0 0 0 0 0 0 0 0 0 0 0 0 0 0 0 0 0 0 0 0 0 0 0 0 0 0 0 0 0 0 0\n",
      " 0 0 0 0 0 0 0 0 0 0 0 0 0 0 0 0 0 0 0 0 0 0 0 0 0 0 0 0 0 0 0 0 0 0 0 0 0\n",
      " 0 0 0 0 0 0 0 0 0 0 0 0 0 0 0 0 0 0 0 0 0 0 0 0 0 0 0 0 0 0 0 0 0 0 0 0 0\n",
      " 0 0 0 0 0 0 0 0 0 0 0 0 0 0 0 0 0 0 0 0 0 0 0 0 0 0 0 0 0 0 0 0 0 0 0 0 0\n",
      " 0 0 0 0 0 0 0 0 0 0 0 0 0 0 0 0 0 0 0 0 0 0 0 0 0 0 0 0 0 0 0 0 0 0 0 0 0\n",
      " 0 0 0 0 0 0 0 0 0 0 0 0 0 0 0 0 0 0 0 0 0 0 0 0 0 0 0 0 0 0 0 0 0 0 0 0 0\n",
      " 0 0 0 0 0 0 0 0 0 0 0 0 0 0 0 0 0 0 0 0 0 0 0 0 0 0 0 0 0 0 0 0 0 0 0 0 0\n",
      " 0 0 0 0 0 0 0 0 0 0 0 0 0 0 0 0 0 0 0 0 0 0 0 0 0 0 0 0 0 0 0 0 0 0 0 0 0\n",
      " 0 0 0 0 0 0 0 0 0 0 0 0 0 0 0 0 0 0 0 0 0 0 0 0 0 0 0 0 0 0 0 0 0 0 0 0 0\n",
      " 0 0 0 0 0 0 0 0 0 0 0 0 0 0 0 0 0 0 0 0 0 0 0 0 0 0 0 0 0 0 0 0 0 0 0 0 0\n",
      " 0 0 0 0 0 0 0 0 0 0 0 0 0 0 0 0 0 0 0 0 0 0 0 0 0 0 0 0 0 0 0 0 0 0 0 0 0\n",
      " 0 0 0 0 0 0 0 0 0 0 0 0 0 0 0 0 0 0 0 0 0 0 0 0 0 0 0 0 0 0 0 0 0 0 0 0 0\n",
      " 0 0 0 0 0 0 0 0 0 0 0 0 0 0 0 0 0 0 0 0 0 0 0 0 0 0 0 0 0 0 0 0 0 0 0 0 0\n",
      " 0 0 0 0 0 0 0 0 0 0 0 0 0 0 0 0 0 0 0 0 0 0 0 0 0 0 0 0 0 0 0 0 0 0 0 0 0\n",
      " 0 0 0 0 0 0 0 0 0 0 0 0 0 0 0 0 0 0 0 0 0 0 0 0 0 0 0 0 0 0 0 0 0 0 0 0 0\n",
      " 0 0 0 0 0 0 0 0 0 0 0 0 0 0 0 0 0 0 0 0 0 0 0 0 0 0 0 0 0 0 0 0 0 0 0 0 0\n",
      " 0 0 0 0 0 0 0 0 0 0 0 0 0 0 0 0 0 0 0 0 0 0 0 0 0 0 0 0 0 0 0 0 0 0 0 0 0\n",
      " 0 0 0 0 0 0 0 0 0 0 0 0 0 0 0 0 0 0 0 0 0 0 0 0 0 0 0 0 0 0 0 0 0 0 0 0 0\n",
      " 0 0 0 0 0 0 0 0 0 0 0 0 0 0 0 0 0 0 0 0 0 0 0 0 0 0 0 0 0 0 0 0 0 0 0 0 0\n",
      " 0] [9 0 2 4 0 3 5 5 5 8 9 4 7 9 6 1 8 3 4 2 6 1 5 4 3 3 0 5 3 1 9 6 4 3 6 5 9\n",
      " 7 4 0 6 9 7 5 4 7 4 7 1 0 4 7 4 6 8 6 9 4 3 8 8 6 6 7 3 7 3 5 3 6 2 9 2 6\n",
      " 2 0 1 9 4 6 5 5 5 7 1 6 9 7 2 8 7 6 1 7 4 1 0 6 8 1 9 1 6 6 3 1 1 3 1 4 7\n",
      " 1 0 1 6 9 5 7 3 4 4 8 7 2 2 1 3 0 6 2 4 3 2 2 9 2 9 4 5 9 7 7 6 3 8 3 9 4\n",
      " 0 6 6 1 6 9 3 4 4 9 6 9 7 7 3 1 3 4 2 2 3 6 9 8 1 8 2 2 0 6 9 9 7 7 2 0 3\n",
      " 7 2 9 2 9 8 8 5 3 2 8 1 3 1 3 7 3 5 1 6 6 8 1 8 5 4 0 5 1 9 8 2 3 9 6 8 6\n",
      " 8 2 0 5 9 8 7 6 2 8 3 2 3 7 1 9 0 9 8 3 0 9 6 9 3 2 7 9 5 5 2 4 7 3 1 5 4\n",
      " 4 9 6 5 2 4 0 4 1 7 2 6 7 2 6 3 8 1 3 7 7 6 5 7 2 8 5 9 0 8 4 8 6 1 5 0 2\n",
      " 5 4 3 4 4 7 1 0 2 0 9 9 1 5 7 4 8 2 8 2 9 1 0 8 9 1 4 2 0 7 8 7 8 7 4 0 6\n",
      " 1 8 5 2 4 4 9 7 1 8 3 5 3 1 5 9 7 3 9 3 4 8 0 3 1 8 1 9 1 7 9 6 6 6 5 4 2\n",
      " 8 5 2 6 4 1 8 7 8 4 1 0 5 0 1 2 8 1 3 5 7 6 4 4 4 8 2 7 8 2 2 1 7 4 9 6 8\n",
      " 0 7 8 8 8 1 3 6 7 2 9 3 6 4 7 6 2 4 4 8 1 4 6 3 9 6 4 4 4 3 2 9 1 6 7 9 8\n",
      " 8 8 7 2 6 6 4 3 3 4 5 6 4 2 4 3 1 4 0 7 1 9 9 6 9 8 0 8 0 8 0 5 9 7 9 4 6\n",
      " 1 3 1 6 8 2 9 6 2 8 7 8 7 5 3 4 6 8 3 4 6 7 4 3 4 1 3 3 1 8 5 6 3 6 4 8 8\n",
      " 1 8 0 0 3 7 2 6 1 3 2 2 2 9 4 9 0 1 2 0 8 2 1 9 5 8 1 0 1 4 4 8 1 6 4 8 3\n",
      " 2 8 3 8 7 9 4 0 0 3 3 1 4 9 1 7 6 7 9 3 2 4 3 1 8 7 0 1 6 3 0 0 2 4 0 0 9\n",
      " 7 1 1 4 6 0 1 1 7 5 9 0 2 7 4 0 8 9 0 0 5 0 8 7 3 0 5 2 2 2 7 9 9 8 4 7 2\n",
      " 5 8 9 4 9 8 9 7 0 0 7 7 7 0 3 0 9 9 4 1 0 8 7 3 0 9 8 6 5 3 5 1 3 7 3 8 7\n",
      " 4 2 9 8 6 4 6 5 8 7 5 4 1 4 4 6 0 5 9 8 1 9 0 5 7 8 3 7 9 6 8 8 1 4 4 9 8\n",
      " 4 9 1 4 4 1 3 3 4 3 8 7 0 2 6 0 2 1 9 6 1 3 6 0 4 9 7 1 9 4 6 9 4 7 2 7 7\n",
      " 6 6 8 2 6 7 0 8 2 9 8 9 3 4 6 5 5 8 9 0 7 7 9 9 5 3 4 1 6 7 8 9 0 2 6 4 9\n",
      " 5 0 8 1 8 1 0 2 9 2 0 0 3 2 1 3 2 6 3 4 9 0 6 6 9 2 1 3 4 0 7 7 8 3 2 8 2\n",
      " 6 6 4 6 8 2 4 0 4 3 7 3 1 6 5 9 1 6 4 4 6 4 2 6 4 5 0 9 7 7 9 6 3 1 2 1 0\n",
      " 7 8 6 7 7 0 5 2 2 1 3 6 2 1 1 9 9 0 3 5 1 5 2 3 5 3 3 5 4 1 6 8 3 6 6 1 5\n",
      " 9 9 6 2 4 4 8 1 5 6 7 7 5 7 8 4 7 9 6 2 2 4 8 9 1 5 7 1 1 3 7 9 3 3 4 2 2\n",
      " 1 7 2 4 9 1 2 6 2 4 9 3 2 2 3 1 0 4 4 4 3 9 8 1 3 8 2 7 3 0 7 1 8 2 7 0 8\n",
      " 1 2 9 3 3 9 1 6 0 7 0 5 5 7 9 6 8 0 8 1 6 2 1 1 3 8 1 4 2 3 2 3 8 0 9 3 2\n",
      " 7]\n",
      "[0 0 0 0 0 0 0 0 0 0 0 0 0 0 0 0 0 0 0 0 0 0 0 0 0 0 0 0 0 0 0 0 0 0 0 0 0\n",
      " 0 0 0 0 0 0 0 0 0 0 0 0 0 0 0 0 0 0 0 0 0 0 0 0 0 0 0 0 0 0 0 0 0 0 0 0 0\n",
      " 0 0 0 0 0 0 0 0 0 0 0 0 0 0 0 0 0 0 0 0 0 0 0 0 0 0 0 0 0 0 0 0 0 0 0 0 0\n",
      " 0 0 0 0 0 0 0 0 0 0 0 0 0 0 0 0 0 0 0 0 0 0 0 0 0 0 0 0 0 0 0 0 0 0 0 0 0\n",
      " 0 0 0 0 0 0 0 0 0 0 0 0 0 0 0 0 0 0 0 0 0 0 0 0 0 0 0 0 0 0 0 0 0 0 0 0 0\n",
      " 0 0 0 0 0 0 0 0 0 0 0 0 0 0 0 0 0 0 0 0 0 0 0 0 0 0 0 0 0 0 0 0 0 0 0 0 0\n",
      " 0 0 0 0 0 0 0 0 0 0 0 0 0 0 0 0 0 0 0 0 0 0 0 0 0 0 0 0 0 0 0 0 0 0 0 0 0\n",
      " 0 0 0 0 0 0 0 0 0 0 0 0 0 0 0 0 0 0 0 0 0 0 0 0 0 0 0 0 0 0 0 0 0 0 0 0 0\n",
      " 0 0 0 0 0 0 0 0 0 0 0 0 0 0 0 0 0 0 0 0 0 0 0 0 0 0 0 0 0 0 0 0 0 0 0 0 0\n",
      " 0 0 0 0 0 0 0 0 0 0 0 0 0 0 0 0 0 0 0 0 0 0 0 0 0 0 0 0 0 0 0 0 0 0 0 0 0\n",
      " 0 0 0 0 0 0 0 0 0 0 0 0 0 0 0 0 0 0 0 0 0 0 0 0 0 0 0 0 0 0 0 0 0 0 0 0 0\n",
      " 0 0 0 0 0 0 0 0 0 0 0 0 0 0 0 0 0 0 0 0 0 0 0 0 0 0 0 0 0 0 0 0 0 0 0 0 0\n",
      " 0 0 0 0 0 0 0 0 0 0 0 0 0 0 0 0 0 0 0 0 0 0 0 0 0 0 0 0 0 0 0 0 0 0 0 0 0\n",
      " 0 0 0 0 0 0 0 0 0 0 0 0 0 0 0 0 0 0 0 0 0 0 0 0 0 0 0 0 0 0 0 0 0 0 0 0 0\n",
      " 0 0 0 0 0 0 0 0 0 0 0 0 0 0 0 0 0 0 0 0 0 0 0 0 0 0 0 0 0 0 0 0 0 0 0 0 0\n",
      " 0 0 0 0 0 0 0 0 0 0 0 0 0 0 0 0 0 0 0 0 0 0 0 0 0 0 0 0 0 0 0 0 0 0 0 0 0\n",
      " 0 0 0 0 0 0 0 0 0 0 0 0 0 0 0 0 0 0 0 0 0 0 0 0 0 0 0 0 0 0 0 0 0 0 0 0 0\n",
      " 0 0 0 0 0 0 0 0 0 0 0 0 0 0 0 0 0 0 0 0 0 0 0 0 0 0 0 0 0 0 0 0 0 0 0 0 0\n",
      " 0 0 0 0 0 0 0 0 0 0 0 0 0 0 0 0 0 0 0 0 0 0 0 0 0 0 0 0 0 0 0 0 0 0 0 0 0\n",
      " 0 0 0 0 0 0 0 0 0 0 0 0 0 0 0 0 0 0 0 0 0 0 0 0 0 0 0 0 0 0 0 0 0 0 0 0 0\n",
      " 0 0 0 0 0 0 0 0 0 0 0 0 0 0 0 0 0 0 0 0 0 0 0 0 0 0 0 0 0 0 0 0 0 0 0 0 0\n",
      " 0 0 0 0 0 0 0 0 0 0 0 0 0 0 0 0 0 0 0 0 0 0 0 0 0 0 0 0 0 0 0 0 0 0 0 0 0\n",
      " 0 0 0 0 0 0 0 0 0 0 0 0 0 0 0 0 0 0 0 0 0 0 0 0 0 0 0 0 0 0 0 0 0 0 0 0 0\n",
      " 0 0 0 0 0 0 0 0 0 0 0 0 0 0 0 0 0 0 0 0 0 0 0 0 0 0 0 0 0 0 0 0 0 0 0 0 0\n",
      " 0 0 0 0 0 0 0 0 0 0 0 0 0 0 0 0 0 0 0 0 0 0 0 0 0 0 0 0 0 0 0 0 0 0 0 0 0\n",
      " 0 0 0 0 0 0 0 0 0 0 0 0 0 0 0 0 0 0 0 0 0 0 0 0 0 0 0 0 0 0 0 0 0 0 0 0 0\n",
      " 0 0 0 0 0 0 0 0 0 0 0 0 0 0 0 0 0 0 0 0 0 0 0 0 0 0 0 0 0 0 0 0 0 0 0 0 0\n",
      " 0] [9 0 2 4 0 3 5 5 5 8 9 4 7 9 6 1 8 3 4 2 6 1 5 4 3 3 0 5 3 1 9 6 4 3 6 5 9\n",
      " 7 4 0 6 9 7 5 4 7 4 7 1 0 4 7 4 6 8 6 9 4 3 8 8 6 6 7 3 7 3 5 3 6 2 9 2 6\n",
      " 2 0 1 9 4 6 5 5 5 7 1 6 9 7 2 8 7 6 1 7 4 1 0 6 8 1 9 1 6 6 3 1 1 3 1 4 7\n",
      " 1 0 1 6 9 5 7 3 4 4 8 7 2 2 1 3 0 6 2 4 3 2 2 9 2 9 4 5 9 7 7 6 3 8 3 9 4\n",
      " 0 6 6 1 6 9 3 4 4 9 6 9 7 7 3 1 3 4 2 2 3 6 9 8 1 8 2 2 0 6 9 9 7 7 2 0 3\n",
      " 7 2 9 2 9 8 8 5 3 2 8 1 3 1 3 7 3 5 1 6 6 8 1 8 5 4 0 5 1 9 8 2 3 9 6 8 6\n",
      " 8 2 0 5 9 8 7 6 2 8 3 2 3 7 1 9 0 9 8 3 0 9 6 9 3 2 7 9 5 5 2 4 7 3 1 5 4\n",
      " 4 9 6 5 2 4 0 4 1 7 2 6 7 2 6 3 8 1 3 7 7 6 5 7 2 8 5 9 0 8 4 8 6 1 5 0 2\n",
      " 5 4 3 4 4 7 1 0 2 0 9 9 1 5 7 4 8 2 8 2 9 1 0 8 9 1 4 2 0 7 8 7 8 7 4 0 6\n",
      " 1 8 5 2 4 4 9 7 1 8 3 5 3 1 5 9 7 3 9 3 4 8 0 3 1 8 1 9 1 7 9 6 6 6 5 4 2\n",
      " 8 5 2 6 4 1 8 7 8 4 1 0 5 0 1 2 8 1 3 5 7 6 4 4 4 8 2 7 8 2 2 1 7 4 9 6 8\n",
      " 0 7 8 8 8 1 3 6 7 2 9 3 6 4 7 6 2 4 4 8 1 4 6 3 9 6 4 4 4 3 2 9 1 6 7 9 8\n",
      " 8 8 7 2 6 6 4 3 3 4 5 6 4 2 4 3 1 4 0 7 1 9 9 6 9 8 0 8 0 8 0 5 9 7 9 4 6\n",
      " 1 3 1 6 8 2 9 6 2 8 7 8 7 5 3 4 6 8 3 4 6 7 4 3 4 1 3 3 1 8 5 6 3 6 4 8 8\n",
      " 1 8 0 0 3 7 2 6 1 3 2 2 2 9 4 9 0 1 2 0 8 2 1 9 5 8 1 0 1 4 4 8 1 6 4 8 3\n",
      " 2 8 3 8 7 9 4 0 0 3 3 1 4 9 1 7 6 7 9 3 2 4 3 1 8 7 0 1 6 3 0 0 2 4 0 0 9\n",
      " 7 1 1 4 6 0 1 1 7 5 9 0 2 7 4 0 8 9 0 0 5 0 8 7 3 0 5 2 2 2 7 9 9 8 4 7 2\n",
      " 5 8 9 4 9 8 9 7 0 0 7 7 7 0 3 0 9 9 4 1 0 8 7 3 0 9 8 6 5 3 5 1 3 7 3 8 7\n",
      " 4 2 9 8 6 4 6 5 8 7 5 4 1 4 4 6 0 5 9 8 1 9 0 5 7 8 3 7 9 6 8 8 1 4 4 9 8\n",
      " 4 9 1 4 4 1 3 3 4 3 8 7 0 2 6 0 2 1 9 6 1 3 6 0 4 9 7 1 9 4 6 9 4 7 2 7 7\n",
      " 6 6 8 2 6 7 0 8 2 9 8 9 3 4 6 5 5 8 9 0 7 7 9 9 5 3 4 1 6 7 8 9 0 2 6 4 9\n",
      " 5 0 8 1 8 1 0 2 9 2 0 0 3 2 1 3 2 6 3 4 9 0 6 6 9 2 1 3 4 0 7 7 8 3 2 8 2\n",
      " 6 6 4 6 8 2 4 0 4 3 7 3 1 6 5 9 1 6 4 4 6 4 2 6 4 5 0 9 7 7 9 6 3 1 2 1 0\n",
      " 7 8 6 7 7 0 5 2 2 1 3 6 2 1 1 9 9 0 3 5 1 5 2 3 5 3 3 5 4 1 6 8 3 6 6 1 5\n",
      " 9 9 6 2 4 4 8 1 5 6 7 7 5 7 8 4 7 9 6 2 2 4 8 9 1 5 7 1 1 3 7 9 3 3 4 2 2\n",
      " 1 7 2 4 9 1 2 6 2 4 9 3 2 2 3 1 0 4 4 4 3 9 8 1 3 8 2 7 3 0 7 1 8 2 7 0 8\n",
      " 1 2 9 3 3 9 1 6 0 7 0 5 5 7 9 6 8 0 8 1 6 2 1 1 3 8 1 4 2 3 2 3 8 0 9 3 2\n",
      " 7]\n"
     ]
    }
   ],
   "source": [
    "dev_predictions = MakePredictions(X_dev, W1, b1, W2, b2)\n",
    "GetAccuracy(dev_predictions, Y_dev)\n",
    "acc= GetAccuracy(dev_predictions,Y_dev)*1000"
   ],
   "metadata": {
    "collapsed": false
   }
  },
  {
   "cell_type": "code",
   "execution_count": 23,
   "outputs": [
    {
     "name": "stdout",
     "output_type": "stream",
     "text": [
      "Accuracy is 83.0Percent\n"
     ]
    }
   ],
   "source": [
    "print(\"Accuracy is \"+str(acc)+\" Percent\")"
   ],
   "metadata": {
    "collapsed": false
   }
  }
 ],
 "metadata": {
  "kernelspec": {
   "display_name": "Python 3",
   "language": "python",
   "name": "python3"
  },
  "language_info": {
   "codemirror_mode": {
    "name": "ipython",
    "version": 2
   },
   "file_extension": ".py",
   "mimetype": "text/x-python",
   "name": "python",
   "nbconvert_exporter": "python",
   "pygments_lexer": "ipython2",
   "version": "2.7.6"
  }
 },
 "nbformat": 4,
 "nbformat_minor": 0
}
